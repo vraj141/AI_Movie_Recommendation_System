{
  "nbformat": 4,
  "nbformat_minor": 0,
  "metadata": {
    "colab": {
      "name": "contentbasedfiltering.ipynb",
      "provenance": [],
      "collapsed_sections": []
    },
    "kernelspec": {
      "name": "python3",
      "display_name": "Python 3"
    },
    "language_info": {
      "name": "python"
    }
  },
  "cells": [
    {
      "cell_type": "code",
      "metadata": {
        "id": "EfhfG5LqBXyL"
      },
      "source": [
        "import math\n",
        "import numpy as np\n",
        "import pandas as pd\n",
        "from sklearn.neighbors import NearestNeighbors"
      ],
      "execution_count": null,
      "outputs": []
    },
    {
      "cell_type": "code",
      "metadata": {
        "id": "ZzOP26x9S3bM"
      },
      "source": [
        "def euclidean_distance(point1,point2):\n",
        "  point1=np.reshape(point1,(1,len(point1)))\n",
        "  point2=np.reshape(point2,(1,len(point2)))\n",
        "  dis=np.sum(np.square(point1-point2))\n",
        "  return math.sqrt(dis)  \n"
      ],
      "execution_count": null,
      "outputs": []
    },
    {
      "cell_type": "code",
      "metadata": {
        "id": "0jbqBlUlS64u"
      },
      "source": [
        "def KNN(data,query,k):\n",
        "  neighbor_distances_and_indices=[]\n",
        "\n",
        "  #for every example in dataset\n",
        "  #data=[[x1,y1],[x2,y2],[]]\n",
        "  for index,example in enumerate(data):\n",
        "    distance=euclidean_distance(example[:-1],query)\n",
        "    neighbor_distances_and_indices.append((distance,index))\n",
        "  sorted_distances=sorted(neighbor_distances_and_indices)\n",
        "  #picking the first k entries\n",
        "  k_nearest_neighbors=sorted_distances[:k]\n",
        "  indices=[]\n",
        "  print(\"The movies recommended through content based filtering are : \")\n",
        "  for element in k_nearest_neighbors:\n",
        "    print(moviefound[element[1]])\n"
      ],
      "execution_count": null,
      "outputs": []
    },
    {
      "cell_type": "code",
      "metadata": {
        "id": "frKcFxzpS_6e"
      },
      "source": [
        "data1=pd.read_csv(\"movies.csv\")\n",
        "data2=pd.read_csv(\"ratings.csv\")\n",
        "data2.drop(['userId', 'timestamp'], axis='columns', inplace=True)\n",
        "grouped=data2.groupby('movieId')\n",
        "data2=pd.DataFrame(grouped.aggregate(np.mean))\n",
        "fdata=pd.merge(data1,data2,on=\"movieId\",how=\"inner\")\n",
        "fdata.head()\n",
        "#data_for_particular_movie=[rating,Adventure,Animation,Children,Comedy,Fantasy,Romance,Thriller,Fantasy,War,Mystery,Drama,Action,Horror,Sci-Fi,Documentary,IMAX]\n",
        "genre=[\"Adventure\",\"Animation\",\"Children\",\"Comedy\",\"Fantasy\",\"Romance\",\"Thriller\",\"Fantasy\",\"War\",\"Mystery\",\"Drama\",\"Action\",\"Horror\",\"Sci-Fi\",\"Documentary\",\"IMAX\",\"\"]\n",
        "training_set=[]\n",
        "moviefound={}\n",
        "for index,row in fdata.iterrows():\n",
        "  moviefound[index]=row.title\n",
        "  data_for_particular_movie=np.zeros(len(genre)+1)\n",
        "  data_for_particular_movie[0]=row.rating\n",
        "  for i in range(len(genre)):\n",
        "    if genre[i] in row.genres:\n",
        "      data_for_particular_movie[i+1]=1\n",
        "  #print(data_for_particular_movie)\n",
        "  training_set.append(data_for_particular_movie)"
      ],
      "execution_count": null,
      "outputs": []
    },
    {
      "cell_type": "code",
      "metadata": {
        "colab": {
          "base_uri": "https://localhost:8080/"
        },
        "id": "v0tZm6EWTRGI",
        "outputId": "022b887b-8385-448d-d696-c9198f36eda3"
      },
      "source": [
        "#test example\n",
        "#to test your own input change the array \"query\" given below where the first element is the imdb rating(between 0 to 5) of the movie you are entering \n",
        "#and then after 0,1 where 1 if the genre is related to your movie else 0\n",
        "#the order of the genre [\"Adventure\",\"Animation\",\"Children\",\"Comedy\",\"Fantasy\",\"Romance\",\"Thriller\",\"Fantasy\",\"War\",\"Mystery\",\"Drama\",\"Action\",\"Horror\",\"Sci-Fi\",\"Documentary\",\"IMAX\"]\n",
        "\n",
        "query=[3.259,0,0,0,1,0,1,0,0,0,0,0,0,0,0,0,1]\n",
        "KNN(training_set,query,10)"
      ],
      "execution_count": null,
      "outputs": [
        {
          "output_type": "stream",
          "text": [
            "The movies recommended through content based filtering are : \n",
            "Grumpier Old Men (1995)\n",
            "Two Weeks Notice (2002)\n",
            "My Big Fat Greek Wedding (2002)\n",
            "Milk Money (1994)\n",
            "She's the One (1996)\n",
            "Can't Buy Me Love (1987)\n",
            "Tortilla Soup (2001)\n",
            "Grass Is Greener, The (1960)\n",
            "Serving Sara (2002)\n",
            "Send Me No Flowers (1964)\n"
          ],
          "name": "stdout"
        }
      ]
    },
    {
      "cell_type": "code",
      "metadata": {
        "id": "0NeB4nnXdPV9"
      },
      "source": [
        ""
      ],
      "execution_count": null,
      "outputs": []
    }
  ]
}